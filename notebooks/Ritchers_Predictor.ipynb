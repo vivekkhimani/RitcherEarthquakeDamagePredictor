{
  "nbformat": 4,
  "nbformat_minor": 0,
  "metadata": {
    "colab": {
      "name": "Ritchers_Predictor.ipynb",
      "provenance": [],
      "collapsed_sections": [],
      "machine_shape": "hm"
    },
    "kernelspec": {
      "name": "python3",
      "display_name": "Python 3"
    }
  },
  "cells": [
    {
      "cell_type": "markdown",
      "metadata": {
        "id": "iZ9_1Aq1og1m",
        "colab_type": "text"
      },
      "source": [
        "**Contributors:**\n",
        "Vivek Khimani and Jongyi\n",
        "\n",
        "**Description:**\n",
        "Based on aspects of building location and construction, the goal is to predict the level of damage to buildings caused by the 2015 Gorkha earthquake in Nepal.\n",
        "\n",
        "**Data Credits:**\n",
        "Central Bureau of Statistics that work under the National Planning Commission Secretariat of Nepal.\n",
        "\n",
        "**Occassion:**\n",
        "DrivenData Practice Competition"
      ]
    },
    {
      "cell_type": "code",
      "metadata": {
        "id": "lnE0BsGMos10",
        "colab_type": "code",
        "colab": {
          "base_uri": "https://localhost:8080/",
          "height": 71
        },
        "outputId": "4303280d-9b1d-4db2-d709-6c9d825c1ecf"
      },
      "source": [
        "#Import Statements\n",
        " !python3 -m io\n",
        "import pandas as pd\n",
        "import numpy as np\n",
        "import csv\n",
        "from google.colab import files\n",
        "import seaborn as sns\n",
        "\n",
        "\n",
        "from sklearn.metrics import accuracy_score,classification_report,log_loss,confusion_matrix,roc_curve,auc\n",
        "from sklearn.model_selection import train_test_split\n",
        "from sklearn.preprocessing import OneHotEncoder,MinMaxScaler,LabelEncoder\n",
        "import matplotlib.pyplot as plt\n",
        "from matplotlib.legend_handler import HandlerLine2D\n",
        "from imblearn.over_sampling import SMOTE\n",
        "import io\n",
        "\n",
        "from sklearn.neural_network import MLPClassifier\n",
        "\n"
      ],
      "execution_count": 2,
      "outputs": [
        {
          "output_type": "stream",
          "text": [
            "/usr/local/lib/python3.6/dist-packages/sklearn/externals/six.py:31: DeprecationWarning: The module is deprecated in version 0.21 and will be removed in version 0.23 since we've dropped support for Python 2.7. Please rely on the official version of six (https://pypi.org/project/six/).\n",
            "  \"(https://pypi.org/project/six/).\", DeprecationWarning)\n"
          ],
          "name": "stderr"
        }
      ]
    },
    {
      "cell_type": "code",
      "metadata": {
        "id": "rNKUjSl-pxFs",
        "colab_type": "code",
        "colab": {}
      },
      "source": [
        "#Importing data from raw github files\n",
        "train_values_url = 'https://raw.githubusercontent.com/vivekkhimani/RitcherEarthquakeDamagePredictor/master/data/train_values.csv'\n",
        "train_labels_url = 'https://raw.githubusercontent.com/vivekkhimani/RitcherEarthquakeDamagePredictor/master/data/train_labels.csv'\n",
        "submission_data_url = 'https://raw.githubusercontent.com/vivekkhimani/RitcherEarthquakeDamagePredictor/master/data/test_values.csv'\n",
        "\n",
        "#Converting the raw imported data to pandas dataframes\n",
        "train_values = pd.read_csv(train_values_url)\n",
        "train_labels = pd.read_csv(train_labels_url)\n",
        "submission_values = pd.read_csv(submission_data_url)\n",
        "\n",
        "#Label Encoding\n",
        "label_encoder = LabelEncoder()\n",
        "train_values = train_values.apply(label_encoder.fit_transform)\n",
        "\n",
        "#Convering the TRAINING dataframes to arrays\n",
        "data_X = train_values.iloc[:,1:].to_numpy()\n",
        "data_Y = train_labels.iloc[:,1].to_numpy()\n",
        "\n"
      ],
      "execution_count": 0,
      "outputs": []
    },
    {
      "cell_type": "code",
      "metadata": {
        "id": "DOvKMiAe1ZF3",
        "colab_type": "code",
        "colab": {
          "base_uri": "https://localhost:8080/",
          "height": 292
        },
        "outputId": "5da548e1-b801-4de0-9234-6f0642e9c2fe"
      },
      "source": [
        "#One Hot Encoding\n",
        "ohe = OneHotEncoder(categorical_features = [7,8,9,10,11,12,13,25])\n",
        "data_X = ohe.fit_transform(data_X).toarray()\n",
        "\n",
        "\n",
        "#Splitting Train and Test sets from the given training data\n",
        "X_train,Y_train,X_test,Y_test = train_test_split(data_X, data_Y, test_size = 0.33, random_state = 42)\n",
        "\n",
        "\n",
        "#checking for class imbalance\n",
        "counter1 = 0\n",
        "counter2 = 0\n",
        "counter3 = 0\n",
        "\n",
        "for items in data_Y:\n",
        "  if items == 1:\n",
        "    counter1+=1\n",
        "  if items == 2:\n",
        "    counter2+=1\n",
        "  if items == 3:\n",
        "    counter3+=1\n",
        "    \n",
        "    \n",
        "print(counter1,counter2,counter3)\n",
        "print(X_train.shape)\n",
        "print(X_train)\n",
        "#print(Y_train.shape)\n",
        "#print(X_test.shape)\n",
        "#print(Y_test.shape)\n",
        "#sns.distplot(data_Y)"
      ],
      "execution_count": 10,
      "outputs": [
        {
          "output_type": "stream",
          "text": [
            "/usr/local/lib/python3.6/dist-packages/sklearn/preprocessing/_encoders.py:415: FutureWarning: The handling of integer data will change in version 0.22. Currently, the categories are determined based on the range [0, max(values)], while in the future they will be determined based on the unique values.\n",
            "If you want the future behaviour and silence this warning, you can specify \"categories='auto'\".\n",
            "In case you used a LabelEncoder before this OneHotEncoder to convert the categories to integers, then you can now use the OneHotEncoder directly.\n",
            "  warnings.warn(msg, FutureWarning)\n",
            "/usr/local/lib/python3.6/dist-packages/sklearn/preprocessing/_encoders.py:451: DeprecationWarning: The 'categorical_features' keyword is deprecated in version 0.20 and will be removed in 0.22. You can use the ColumnTransformer instead.\n",
            "  \"use the ColumnTransformer instead.\", DeprecationWarning)\n"
          ],
          "name": "stderr"
        },
        {
          "output_type": "stream",
          "text": [
            "25124 148259 87218\n",
            "(174602, 68)\n",
            "[[0. 0. 1. ... 0. 0. 0.]\n",
            " [0. 0. 1. ... 0. 0. 0.]\n",
            " [0. 1. 0. ... 0. 0. 0.]\n",
            " ...\n",
            " [0. 1. 0. ... 0. 0. 0.]\n",
            " [0. 0. 1. ... 0. 0. 0.]\n",
            " [0. 0. 1. ... 0. 0. 0.]]\n"
          ],
          "name": "stdout"
        }
      ]
    },
    {
      "cell_type": "code",
      "metadata": {
        "id": "vqAbuWCySMyk",
        "colab_type": "code",
        "colab": {}
      },
      "source": [
        "#Vivek Block\n",
        "#GridSeachCV and Randomized Search\n",
        "#Get the parameters, run the model, and check the metrics"
      ],
      "execution_count": 0,
      "outputs": []
    },
    {
      "cell_type": "code",
      "metadata": {
        "id": "dxD-KTFMSXWY",
        "colab_type": "code",
        "colab": {}
      },
      "source": [
        "#Jongyi Block\n",
        "#Overfitting and Underfitting Metrics\n",
        "#Plotting AUC ROC curve"
      ],
      "execution_count": 0,
      "outputs": []
    }
  ]
}